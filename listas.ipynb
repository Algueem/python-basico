{
 "cells": [
  {
   "cell_type": "code",
   "execution_count": 2,
   "metadata": {},
   "outputs": [
    {
     "name": "stdout",
     "output_type": "stream",
     "text": [
      "['Sarada', 'Naruto', 'Sasuke', 'Kakashi']\n"
     ]
    }
   ],
   "source": [
    "minha_lista = [\"Naruto\",\"Sasuke\",\"Kakashi\"]\n",
    "# O índice de lista em python sempre começa no 0\n",
    "# Passando o índice -1 vai retorna o ultimo item da lista\n",
    "# Inserir algo na lista\n",
    "# método insert(posição,valor) \n",
    "minha_lista.insert(0,\"Sarada\")\n",
    "print(minha_lista)"
   ]
  },
  {
   "cell_type": "code",
   "execution_count": 2,
   "metadata": {},
   "outputs": [
    {
     "name": "stdout",
     "output_type": "stream",
     "text": [
      "['Sarada', 'Naruto', 'Sasuke', 'Kakashi', 'Boruto']\n"
     ]
    }
   ],
   "source": [
    "# Inserir algo na lista\n",
    "# método append(valor)\n",
    "# insere o valor no final da lista\n",
    "minha_lista.append(\"Boruto\")\n",
    "print(minha_lista)"
   ]
  },
  {
   "cell_type": "code",
   "execution_count": 3,
   "metadata": {},
   "outputs": [
    {
     "name": "stdout",
     "output_type": "stream",
     "text": [
      "['Naruto', 'Sasuke', 'Kakashi', 'Boruto']\n"
     ]
    }
   ],
   "source": [
    "# Remover itens da lista\n",
    "# método del lista[posição]\n",
    "\n",
    "del minha_lista[0]\n",
    "print(minha_lista)"
   ]
  },
  {
   "cell_type": "code",
   "execution_count": 4,
   "metadata": {},
   "outputs": [
    {
     "name": "stdout",
     "output_type": "stream",
     "text": [
      "['Naruto', 'Sasuke', 'Kakashi']\n"
     ]
    }
   ],
   "source": [
    "# Remover itens da lista\n",
    "# metodo pop()\n",
    "# remove o ultimo item da lista\n",
    "# o metodo pop() também por receber indice como parâmetro\n",
    "# minha_lista.pop(0)\n",
    "minha_lista.pop()\n",
    "print(minha_lista)"
   ]
  },
  {
   "cell_type": "code",
   "execution_count": 5,
   "metadata": {},
   "outputs": [
    {
     "name": "stdout",
     "output_type": "stream",
     "text": [
      "['Naruto', 'Kakashi']\n"
     ]
    }
   ],
   "source": [
    "# Remover intens da lista\n",
    "# metodo remove(valor)\n",
    "# para remover passando o valor do intem\n",
    "# nesse metodo mesmo que tenha vários intens iguais ele só ira deleta 1\n",
    "minha_lista.remove(\"Sasuke\")\n",
    "print(minha_lista)"
   ]
  },
  {
   "cell_type": "code",
   "execution_count": 6,
   "metadata": {},
   "outputs": [
    {
     "name": "stdout",
     "output_type": "stream",
     "text": [
      "['Obito', 'Kakashi']\n"
     ]
    }
   ],
   "source": [
    "# Atribuir um valor em intem da lista\n",
    "minha_lista[0] = \"Obito\"\n",
    "print(minha_lista)"
   ]
  },
  {
   "cell_type": "code",
   "execution_count": 7,
   "metadata": {},
   "outputs": [
    {
     "name": "stdout",
     "output_type": "stream",
     "text": [
      "['Kakashi', 'Obito']\n"
     ]
    }
   ],
   "source": [
    "# Ordenar lista\n",
    "# método sort()\n",
    "# vai organizar a lista em ordem crescente\n",
    "# para ordem descrecente deve passar o parâmetro .sort(reverse=True)\n",
    "minha_lista.sort()\n",
    "print(minha_lista)"
   ]
  },
  {
   "cell_type": "code",
   "execution_count": 10,
   "metadata": {
    "scrolled": true
   },
   "outputs": [
    {
     "name": "stdout",
     "output_type": "stream",
     "text": [
      "['Kakashi', 'Naruto', 'Sarada', 'Sasuke']\n",
      "###\n",
      "['Sarada', 'Naruto', 'Sasuke', 'Kakashi']\n"
     ]
    }
   ],
   "source": [
    "# Ordenar sem alterar a lista\n",
    "# método .sorted(lista)\n",
    "print(sorted(minha_lista))\n",
    "print(\"###\")\n",
    "print(minha_lista)"
   ]
  },
  {
   "cell_type": "code",
   "execution_count": 11,
   "metadata": {},
   "outputs": [
    {
     "name": "stdout",
     "output_type": "stream",
     "text": [
      "['Kakashi', 'Sasuke', 'Naruto', 'Sarada']\n"
     ]
    }
   ],
   "source": [
    "# Inverte lista\n",
    "# método .reverse()\n",
    "minha_lista.reverse()\n",
    "print(minha_lista)"
   ]
  },
  {
   "cell_type": "code",
   "execution_count": 13,
   "metadata": {},
   "outputs": [
    {
     "name": "stdout",
     "output_type": "stream",
     "text": [
      "4\n"
     ]
    }
   ],
   "source": [
    "# ler o tamanhado de uma lista\n",
    "# método len()\n",
    "print(len(minha_lista))"
   ]
  },
  {
   "cell_type": "code",
   "execution_count": 15,
   "metadata": {},
   "outputs": [
    {
     "name": "stdout",
     "output_type": "stream",
     "text": [
      "Kakashi\n",
      "Sasuke\n",
      "Naruto\n",
      "Sarada\n"
     ]
    }
   ],
   "source": [
    "# Pecorrer um lista\n",
    "for i in minha_lista:\n",
    "    print(i,end=\"\\n\")"
   ]
  },
  {
   "cell_type": "code",
   "execution_count": 3,
   "metadata": {
    "scrolled": true
   },
   "outputs": [
    {
     "name": "stdout",
     "output_type": "stream",
     "text": [
      "['Sarada', 'Naruto']\n"
     ]
    }
   ],
   "source": [
    "# Fatiar uma lista\n",
    "print(minha_lista[0:2])\n",
    "# nesse caso passando [0:2] vai retornar os dois primeiros itens da lista\n",
    "# passando o [índice de inicio : índice de fim]"
   ]
  },
  {
   "cell_type": "code",
   "execution_count": 8,
   "metadata": {},
   "outputs": [
    {
     "name": "stdout",
     "output_type": "stream",
     "text": [
      "11 12 5 2 \n",
      "15 6 10 \n",
      "10 8 12 5 \n",
      "12 15 8 6 \n"
     ]
    }
   ],
   "source": [
    "# lista 2d\n",
    "lista = [[11, 12, 5, 2], [15, 6,10], [10, 8, 12, 5], [12,15,8,6]]\n",
    "\n",
    "for t in lista:\n",
    "    for c in t:\n",
    "        print(c,end=\" \")\n",
    "    print()"
   ]
  },
  {
   "cell_type": "code",
   "execution_count": 10,
   "metadata": {},
   "outputs": [
    {
     "name": "stdout",
     "output_type": "stream",
     "text": [
      "[['Segunda' '1' '8' '15' '22']\n",
      " ['Sexta' '5' '12' '19' '26']\n",
      " ['Terca' '2' '9' '16' '23']\n",
      " ['Sabado' '6' '13' '20' '27']\n",
      " ['Quarta' '3' '10' '17' '24']\n",
      " ['Domingo' '7' '14' '21' '28']\n",
      " ['Quinta' '4' '11' '18' '25']]\n"
     ]
    }
   ],
   "source": []
  }
 ],
 "metadata": {
  "kernelspec": {
   "display_name": "Python 3",
   "language": "python",
   "name": "python3"
  },
  "language_info": {
   "codemirror_mode": {
    "name": "ipython",
    "version": 3
   },
   "file_extension": ".py",
   "mimetype": "text/x-python",
   "name": "python",
   "nbconvert_exporter": "python",
   "pygments_lexer": "ipython3",
   "version": "3.7.2"
  }
 },
 "nbformat": 4,
 "nbformat_minor": 2
}
