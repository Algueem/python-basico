{
 "cells": [
  {
   "cell_type": "code",
   "execution_count": 1,
   "metadata": {},
   "outputs": [
    {
     "data": {
      "text/plain": [
       "7"
      ]
     },
     "execution_count": 1,
     "metadata": {},
     "output_type": "execute_result"
    }
   ],
   "source": [
    "# Funções em python é um forma de reutilizar código\n",
    "# para definir um função basta usa a palavra reservada def \n",
    "# estrutura def nome_da_funcão(Parâmetros): codigo\n",
    "def some(a,b):\n",
    "    return a+b\n",
    "some(2,5)"
   ]
  },
  {
   "cell_type": "code",
   "execution_count": 2,
   "metadata": {},
   "outputs": [
    {
     "data": {
      "text/plain": [
       "('python', 'java', 'php')"
      ]
     },
     "execution_count": 2,
     "metadata": {},
     "output_type": "execute_result"
    }
   ],
   "source": [
    "# args é usado para passa vários argumentos para a função\n",
    "def teste(*args):\n",
    "    return args\n",
    "\n",
    "teste(\"python\",\"java\",\"php\")"
   ]
  },
  {
   "cell_type": "code",
   "execution_count": 1,
   "metadata": {},
   "outputs": [
    {
     "data": {
      "text/plain": [
       "'Xico Origem Brasil'"
      ]
     },
     "execution_count": 1,
     "metadata": {},
     "output_type": "execute_result"
    }
   ],
   "source": [
    "# passando argumetos padrão\n",
    "def teste1(nome,pais=\"Brasil\"):\n",
    "    return f\"{nome} Origem {pais}\"\n",
    "teste1(\"Xico\")"
   ]
  },
  {
   "cell_type": "code",
   "execution_count": 7,
   "metadata": {},
   "outputs": [
    {
     "name": "stdout",
     "output_type": "stream",
     "text": [
      "primeiro argumento:  Boruto personagens\n",
      "segundo argumento: author kishimoto\n",
      "----------------------------------------\n",
      "nome : naruto\n",
      "vila : konoha\n"
     ]
    }
   ],
   "source": [
    "# passando vários argumento com kargs\n",
    "# o ** como argumento vai retornar um dicionário\n",
    "# o * como argumento vai retorna uma tupla\n",
    "def argumentos(teste, *args, **kargs):\n",
    "    print(f\"primeiro argumento: {teste}\")\n",
    "    for argumento in args:\n",
    "        print(f\"segundo argumento: {argumento}\")\n",
    "    print(\"-\" * 40)\n",
    "    for inten in kargs:\n",
    "        print(f\"{inten} : {kargs[inten]}\")\n",
    "argumentos(\"Boruto personagens\",\"author kishimoto\",nome=\"naruto\",vila=\"konoha\")        "
   ]
  },
  {
   "cell_type": "code",
   "execution_count": 13,
   "metadata": {},
   "outputs": [
    {
     "name": "stdout",
     "output_type": "stream",
     "text": [
      "<function incremento.<locals>.<lambda> at 0x00C424B0>\n"
     ]
    },
    {
     "data": {
      "text/plain": [
       "43"
      ]
     },
     "execution_count": 13,
     "metadata": {},
     "output_type": "execute_result"
    }
   ],
   "source": [
    "# função anônima lambda\n",
    "def incremento(valor):\n",
    "    return lambda x: x + valor\n",
    "\n",
    "numero = incremento(42)\n",
    "print(numero)\n",
    "numero(1)"
   ]
  }
 ],
 "metadata": {
  "kernelspec": {
   "display_name": "Python 3",
   "language": "python",
   "name": "python3"
  },
  "language_info": {
   "codemirror_mode": {
    "name": "ipython",
    "version": 3
   },
   "file_extension": ".py",
   "mimetype": "text/x-python",
   "name": "python",
   "nbconvert_exporter": "python",
   "pygments_lexer": "ipython3",
   "version": "3.7.2"
  }
 },
 "nbformat": 4,
 "nbformat_minor": 2
}
