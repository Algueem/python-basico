{
 "cells": [
  {
   "cell_type": "code",
   "execution_count": 1,
   "metadata": {},
   "outputs": [
    {
     "name": "stdout",
     "output_type": "stream",
     "text": [
      "Nome,idade,sexo\n",
      "\n",
      "lucas,12,M\n",
      "\n",
      "pedro,12,M\n",
      "\n",
      "joao,12,M\n",
      "\n",
      "\n"
     ]
    }
   ],
   "source": [
    "# lib para trabalhar com tabelas do excel\n",
    "import csv\n",
    "# criação do arquivo em modo de escrita\n",
    "f = open('tabela.csv','w')\n",
    "try:\n",
    "    inserir = csv.writer(f)\n",
    "    inserir.writerow(('Nome','idade','sexo'))\n",
    "    inserir.writerow(('lucas','12','M'))\n",
    "    inserir.writerow(('pedro', '12', 'M'))\n",
    "    inserir.writerow(('joao', '12', 'M'))\n",
    "finally:\n",
    "    f.close()\n",
    "print(open('tabela.csv','rt').read())"
   ]
  },
  {
   "cell_type": "code",
   "execution_count": null,
   "metadata": {},
   "outputs": [],
   "source": []
  }
 ],
 "metadata": {
  "kernelspec": {
   "display_name": "Python 3",
   "language": "python",
   "name": "python3"
  },
  "language_info": {
   "codemirror_mode": {
    "name": "ipython",
    "version": 3
   },
   "file_extension": ".py",
   "mimetype": "text/x-python",
   "name": "python",
   "nbconvert_exporter": "python",
   "pygments_lexer": "ipython3",
   "version": "3.7.2"
  }
 },
 "nbformat": 4,
 "nbformat_minor": 2
}
