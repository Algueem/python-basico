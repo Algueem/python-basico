{
 "cells": [
  {
   "cell_type": "code",
   "execution_count": 4,
   "metadata": {},
   "outputs": [
    {
     "name": "stdout",
     "output_type": "stream",
     "text": [
      "boruto\n"
     ]
    }
   ],
   "source": [
    "# Dicionários trabalham com chave e valor\n",
    "meu_dict={\n",
    "    \"nome\":\"boruto\",\n",
    "    \"vila\":\"konoha\"\n",
    "    \n",
    "}\n",
    "print(meu_dict[\"nome\"])"
   ]
  },
  {
   "cell_type": "code",
   "execution_count": 5,
   "metadata": {},
   "outputs": [
    {
     "name": "stdout",
     "output_type": "stream",
     "text": [
      "{'nome': 'Sasuke', 'vila': 'konoha'}\n"
     ]
    }
   ],
   "source": [
    "# Atribuindo valores\n",
    "meu_dict[\"nome\"] = \"Sasuke\"\n",
    "print(meu_dict)"
   ]
  },
  {
   "cell_type": "code",
   "execution_count": 3,
   "metadata": {},
   "outputs": [
    {
     "name": "stdout",
     "output_type": "stream",
     "text": [
      "{'nome': 'Sasuke'}\n"
     ]
    }
   ],
   "source": [
    "# deletar \n",
    "del meu_dict[\"vila\"]\n",
    "print(meu_dict)"
   ]
  },
  {
   "cell_type": "code",
   "execution_count": 6,
   "metadata": {},
   "outputs": [
    {
     "name": "stdout",
     "output_type": "stream",
     "text": [
      "['nome', 'vila']\n"
     ]
    }
   ],
   "source": [
    "# ordenar\n",
    "# método sorted()\n",
    "print(sorted(meu_dict))"
   ]
  },
  {
   "cell_type": "code",
   "execution_count": 11,
   "metadata": {},
   "outputs": [
    {
     "name": "stdout",
     "output_type": "stream",
     "text": [
      "nome Sasuke\n",
      "vila konoha\n"
     ]
    }
   ],
   "source": [
    "# percorrer um Dicionário \n",
    "for chave,valor in meu_dict.items():\n",
    "    print(chave,valor,end=\"\\n\")"
   ]
  }
 ],
 "metadata": {
  "kernelspec": {
   "display_name": "Python 3",
   "language": "python",
   "name": "python3"
  },
  "language_info": {
   "codemirror_mode": {
    "name": "ipython",
    "version": 3
   },
   "file_extension": ".py",
   "mimetype": "text/x-python",
   "name": "python",
   "nbconvert_exporter": "python",
   "pygments_lexer": "ipython3",
   "version": "3.7.2"
  }
 },
 "nbformat": 4,
 "nbformat_minor": 2
}
