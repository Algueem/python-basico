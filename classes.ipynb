{
 "cells": [
  {
   "cell_type": "code",
   "execution_count": 6,
   "metadata": {},
   "outputs": [
    {
     "name": "stdout",
     "output_type": "stream",
     "text": [
      "Dogineo da raça pitbul tem o porte grande\n"
     ]
    }
   ],
   "source": [
    "# classe de forma crua seria um representação do mundo real\n",
    "# para definir uma classe usa a palavra reservada class\n",
    "\n",
    "class catiorro:\n",
    "    # o método init é que inicia a class\n",
    "    def __init__(self,raca,porte):\n",
    "        self.raca = raca\n",
    "        self.porte = porte\n",
    "    # o método str é para retorna string     \n",
    "    def __str__(self):\n",
    "        return f\"Dogineo da raça {self.raca} tem o porte {self.porte}\"\n",
    "    \n",
    "   \n",
    "    \n",
    "doginho = catiorro(\"pitbul\",\"grande\")        \n",
    "print(doginho)"
   ]
  },
  {
   "cell_type": "code",
   "execution_count": 7,
   "metadata": {},
   "outputs": [
    {
     "data": {
      "text/plain": [
       "'pitbul'"
      ]
     },
     "execution_count": 7,
     "metadata": {},
     "output_type": "execute_result"
    }
   ],
   "source": [
    "# exibir atributos\n",
    "doginho.raca"
   ]
  },
  {
   "cell_type": "code",
   "execution_count": 17,
   "metadata": {},
   "outputs": [
    {
     "data": {
      "text/plain": [
       "'grande'"
      ]
     },
     "execution_count": 17,
     "metadata": {},
     "output_type": "execute_result"
    }
   ],
   "source": [
    "doginho.porte"
   ]
  }
 ],
 "metadata": {
  "kernelspec": {
   "display_name": "Python 3",
   "language": "python",
   "name": "python3"
  },
  "language_info": {
   "codemirror_mode": {
    "name": "ipython",
    "version": 3
   },
   "file_extension": ".py",
   "mimetype": "text/x-python",
   "name": "python",
   "nbconvert_exporter": "python",
   "pygments_lexer": "ipython3",
   "version": "3.7.2"
  }
 },
 "nbformat": 4,
 "nbformat_minor": 2
}
