{
 "cells": [
  {
   "cell_type": "code",
   "execution_count": 1,
   "metadata": {},
   "outputs": [
    {
     "data": {
      "text/plain": [
       "str"
      ]
     },
     "execution_count": 1,
     "metadata": {},
     "output_type": "execute_result"
    }
   ],
   "source": [
    "# Como definir uma string\n",
    "minha_string = \"Palmeiras não tem mundial\"\n",
    "type(minha_string)"
   ]
  },
  {
   "cell_type": "code",
   "execution_count": 3,
   "metadata": {},
   "outputs": [
    {
     "name": "stdout",
     "output_type": "stream",
     "text": [
      "Liverpol não tem mundial\n"
     ]
    }
   ],
   "source": [
    "# Trocar elemento em uma string\n",
    "# método replace\n",
    "print(minha_string.replace(\"Palmeiras\",\"Liverpol\"))"
   ]
  },
  {
   "cell_type": "code",
   "execution_count": 4,
   "metadata": {},
   "outputs": [
    {
     "name": "stdout",
     "output_type": "stream",
     "text": [
      "Palmeiras\n"
     ]
    }
   ],
   "source": [
    "# Fatiar uma string\n",
    "print(minha_string[0:9])"
   ]
  },
  {
   "cell_type": "code",
   "execution_count": 6,
   "metadata": {},
   "outputs": [
    {
     "name": "stdout",
     "output_type": "stream",
     "text": [
      "['Palmeiras', 'não', 'tem', 'mundial']\n"
     ]
    }
   ],
   "source": [
    "# método split separa os elemtos pelo espaço e retorna em uma lista\n",
    "print(minha_string.split())"
   ]
  },
  {
   "cell_type": "code",
   "execution_count": 8,
   "metadata": {},
   "outputs": [
    {
     "name": "stdout",
     "output_type": "stream",
     "text": [
      "PALMEIRAS NÃO TEM MUNDIAL\n",
      "palmeiras não tem mundial\n"
     ]
    }
   ],
   "source": [
    "# exibir a string em maiúsculas e minúsculas\n",
    "print(minha_string.upper())\n",
    "print(minha_string.lower())"
   ]
  },
  {
   "cell_type": "code",
   "execution_count": 9,
   "metadata": {},
   "outputs": [
    {
     "name": "stdout",
     "output_type": "stream",
     "text": [
      "Palmeiras não tem mundial , e também não tem copinha\n"
     ]
    }
   ],
   "source": [
    "# formatar uma string\n",
    "# método format\n",
    "nova_string = \"{}, e também não tem copinha\".format(minha_string)\n",
    "print(nova_string)"
   ]
  },
  {
   "cell_type": "code",
   "execution_count": 10,
   "metadata": {},
   "outputs": [
    {
     "name": "stdout",
     "output_type": "stream",
     "text": [
      "Palmeiras não tem mundial, e também não tem copinha\n"
     ]
    }
   ],
   "source": [
    "# formatar string\n",
    "# usando f string (meu preferido)\n",
    "nova_string2 = f\"{minha_string}, e também não tem copinha\"\n",
    "print(nova_string2)"
   ]
  },
  {
   "cell_type": "code",
   "execution_count": 17,
   "metadata": {},
   "outputs": [
    {
     "data": {
      "text/plain": [
       "'Palmeiras não tem mundial, e também não tem '"
      ]
     },
     "execution_count": 17,
     "metadata": {},
     "output_type": "execute_result"
    }
   ],
   "source": [
    "# retorna uma cópia da string sem o elemtendo passado como parâmetro\n",
    "nova_string2.strip(\"copinha\")"
   ]
  }
 ],
 "metadata": {
  "kernelspec": {
   "display_name": "Python 3",
   "language": "python",
   "name": "python3"
  },
  "language_info": {
   "codemirror_mode": {
    "name": "ipython",
    "version": 3
   },
   "file_extension": ".py",
   "mimetype": "text/x-python",
   "name": "python",
   "nbconvert_exporter": "python",
   "pygments_lexer": "ipython3",
   "version": "3.7.2"
  }
 },
 "nbformat": 4,
 "nbformat_minor": 2
}
