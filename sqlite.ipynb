{
 "cells": [
  {
   "cell_type": "code",
   "execution_count": 9,
   "metadata": {},
   "outputs": [
    {
     "name": "stdout",
     "output_type": "stream",
     "text": [
      "('acnologia', 1211211232)\n"
     ]
    }
   ],
   "source": [
    "import sqlite3\n",
    "\n",
    "con = sqlite3.connect('banlist.db')\n",
    "c =con.cursor()\n",
    "\n",
    "\n",
    "def criar_tabela():\n",
    "    c.execute('CREATE TABLE IF NOT EXISTS banidos(membro_id INTEGER PRIMARY KEY NOT NULL,name TEXT)')\n",
    "\n",
    "def inserir(membro_id:int,name:str):\n",
    "    c.execute(f'INSERT INTO banidos VALUES({membro_id},\"{name}\")')\n",
    "    con.commit()\n",
    "    c.close()\n",
    "    con.close()\n",
    "\n",
    "def buscar_todos():\n",
    "    c.execute('SELECT name,membro_id FROM banidos')\n",
    "    for linha in c.fetchall():\n",
    "        print(linha)\n",
    "\n",
    "def update(membro_id:int):\n",
    "    c.execute(f'UPDATE banidos SET membro_id WHERE membro_id ={membro_id}')\n",
    "    con.commit()\n",
    "    con.close()\n",
    "\n",
    "    \n",
    "inserir(11111111111,\"acnologia\")\n",
    "buscar_todos()"
   ]
  },
  {
   "cell_type": "code",
   "execution_count": null,
   "metadata": {},
   "outputs": [],
   "source": []
  }
 ],
 "metadata": {
  "kernelspec": {
   "display_name": "Python 3",
   "language": "python",
   "name": "python3"
  },
  "language_info": {
   "codemirror_mode": {
    "name": "ipython",
    "version": 3
   },
   "file_extension": ".py",
   "mimetype": "text/x-python",
   "name": "python",
   "nbconvert_exporter": "python",
   "pygments_lexer": "ipython3",
   "version": "3.7.2"
  }
 },
 "nbformat": 4,
 "nbformat_minor": 2
}
